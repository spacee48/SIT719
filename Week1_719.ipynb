{
  "nbformat": 4,
  "nbformat_minor": 0,
  "metadata": {
    "colab": {
      "provenance": [],
      "authorship_tag": "ABX9TyP9eZWwpW6xF2hy1rFq4DcV",
      "include_colab_link": true
    },
    "kernelspec": {
      "name": "python3",
      "display_name": "Python 3"
    },
    "language_info": {
      "name": "python"
    }
  },
  "cells": [
    {
      "cell_type": "markdown",
      "metadata": {
        "id": "view-in-github",
        "colab_type": "text"
      },
      "source": [
        "<a href=\"https://colab.research.google.com/github/spacee48/SIT719/blob/main/Week1_719.ipynb\" target=\"_parent\"><img src=\"https://colab.research.google.com/assets/colab-badge.svg\" alt=\"Open In Colab\"/></a>"
      ]
    },
    {
      "cell_type": "code",
      "execution_count": 1,
      "metadata": {
        "id": "QtCrYuK5Yy3K"
      },
      "outputs": [],
      "source": [
        "import pandas as pd\n",
        "import numpy as np"
      ]
    },
    {
      "cell_type": "markdown",
      "source": [
        "**Variables**"
      ],
      "metadata": {
        "id": "0JTcIza2ZxrA"
      }
    },
    {
      "cell_type": "code",
      "source": [
        "x = 10\n",
        "print(type(x))\n",
        "\n",
        "y = 1.3\n",
        "print(type(y))\n",
        "\n",
        "z = \"hello\"\n",
        "print(type(z))"
      ],
      "metadata": {
        "colab": {
          "base_uri": "https://localhost:8080/"
        },
        "id": "xtcvOVK0ZmQn",
        "outputId": "5994e15b-5bd3-4206-9e13-fdcd44c3af2e"
      },
      "execution_count": 2,
      "outputs": [
        {
          "output_type": "stream",
          "name": "stdout",
          "text": [
            "<class 'int'>\n",
            "<class 'float'>\n",
            "<class 'str'>\n"
          ]
        }
      ]
    },
    {
      "cell_type": "markdown",
      "source": [
        "**List**\n"
      ],
      "metadata": {
        "id": "mLw6OmY6Z19e"
      }
    },
    {
      "cell_type": "code",
      "source": [
        "myList = [1, 5, 2.57, 'abc', 4.09]\n",
        "\n",
        "print(type(myList))\n",
        "print(myList)\n",
        "print(\"Length of the list: \", len(myList))"
      ],
      "metadata": {
        "colab": {
          "base_uri": "https://localhost:8080/"
        },
        "id": "UO4sKX_5Z5S4",
        "outputId": "b0ccfa8d-64a7-4863-b86c-7fc944138df1"
      },
      "execution_count": 3,
      "outputs": [
        {
          "output_type": "stream",
          "name": "stdout",
          "text": [
            "<class 'list'>\n",
            "[1, 5, 2.57, 'abc', 4.09]\n",
            "Length of the list:  5\n"
          ]
        }
      ]
    },
    {
      "cell_type": "code",
      "source": [
        "numbers = [1, 2, 3, 4, 5, 6, 7, 8]\n",
        "\n",
        "print(numbers[0])\n",
        "print(numbers[7])\n",
        "print(numbers[-1])"
      ],
      "metadata": {
        "colab": {
          "base_uri": "https://localhost:8080/"
        },
        "id": "jg_SyLpzaIdA",
        "outputId": "daa357b2-9495-4195-8c99-33d8eddf9471"
      },
      "execution_count": 5,
      "outputs": [
        {
          "output_type": "stream",
          "name": "stdout",
          "text": [
            "1\n",
            "8\n",
            "8\n"
          ]
        }
      ]
    },
    {
      "cell_type": "markdown",
      "source": [
        "**Tuples**\n"
      ],
      "metadata": {
        "id": "AWGUHbIJaoNS"
      }
    },
    {
      "cell_type": "code",
      "source": [
        "states = ('VIC', 'NSW', 'QLD', 'WA', 'ACT', 'NT', 'TAS', 'SA')\n",
        "\n",
        "print(type(states))\n",
        "print(states)"
      ],
      "metadata": {
        "colab": {
          "base_uri": "https://localhost:8080/"
        },
        "id": "qBYNhtKEaswQ",
        "outputId": "d59d7c61-24d2-4361-d984-d53428368e83"
      },
      "execution_count": 6,
      "outputs": [
        {
          "output_type": "stream",
          "name": "stdout",
          "text": [
            "<class 'tuple'>\n",
            "('VIC', 'NSW', 'QLD', 'WA', 'ACT', 'NT', 'TAS', 'SA')\n"
          ]
        }
      ]
    },
    {
      "cell_type": "markdown",
      "source": [
        "**Dictionaries**"
      ],
      "metadata": {
        "id": "fbHr3AphbMo_"
      }
    },
    {
      "cell_type": "code",
      "source": [
        "dict = {}\n",
        "dict['one'] = \"This is one\"\n",
        "dict[2] = \"This is two\"\n",
        "\n",
        "print(dict['one'])\n",
        "print(dict)\n",
        "\n",
        "dict['one'] = \"One has changed\"\n",
        "\n",
        "print(dict['one'])"
      ],
      "metadata": {
        "colab": {
          "base_uri": "https://localhost:8080/"
        },
        "id": "Oh2AW-Bza8no",
        "outputId": "f1b9ad69-2a0e-427c-f15a-ff8505b5b799"
      },
      "execution_count": 12,
      "outputs": [
        {
          "output_type": "stream",
          "name": "stdout",
          "text": [
            "This is one\n",
            "{'one': 'This is one', 2: 'This is two'}\n",
            "One has changed\n"
          ]
        }
      ]
    }
  ]
}