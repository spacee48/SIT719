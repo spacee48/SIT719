{
  "nbformat": 4,
  "nbformat_minor": 0,
  "metadata": {
    "colab": {
      "provenance": [],
      "authorship_tag": "ABX9TyPE2KMw2+wlIlivh2i0ofPd",
      "include_colab_link": true
    },
    "kernelspec": {
      "name": "python3",
      "display_name": "Python 3"
    },
    "language_info": {
      "name": "python"
    }
  },
  "cells": [
    {
      "cell_type": "markdown",
      "metadata": {
        "id": "view-in-github",
        "colab_type": "text"
      },
      "source": [
        "<a href=\"https://colab.research.google.com/github/spacee48/SIT719/blob/main/6_1P.ipynb\" target=\"_parent\"><img src=\"https://colab.research.google.com/assets/colab-badge.svg\" alt=\"Open In Colab\"/></a>"
      ]
    },
    {
      "cell_type": "code",
      "execution_count": null,
      "metadata": {
        "id": "5jKT651Pj2EO"
      },
      "outputs": [],
      "source": [
        "# import the KNN model from PyOD\n",
        "# KNN detects anomalies based on distance to its neighbors\n",
        "# other models:\n",
        "# from pyod.models.iforest import IForest\n",
        "# from pyod.models.ocsvm import OCSVM\n",
        "# from pyod.models.auto_encoder import AutoEncoder\n",
        "\n",
        "from pyod.models.knn import KNN"
      ]
    },
    {
      "cell_type": "code",
      "source": [
        "# import utility to generate synthetic dataset for testing anomaly detection models\n",
        "\n",
        "from pyod.utils.data import generate_data"
      ],
      "metadata": {
        "id": "JsWN_irgkChe"
      },
      "execution_count": null,
      "outputs": []
    },
    {
      "cell_type": "code",
      "source": [
        "# import visualization function to help us plot and understand detection results\n",
        "\n",
        "from pyod.utils.example import visualize"
      ],
      "metadata": {
        "id": "8AAXPMS6kG_N"
      },
      "execution_count": null,
      "outputs": []
    },
    {
      "cell_type": "code",
      "source": [
        "contamination = 0.1 # set contamination level # 10% of the data will be outliers\n",
        "n_train = 200 # number of training samples. these will be used to train the anomaly detector\n",
        "n_test # number of test samples. these are used to evaluate the model's performance"
      ],
      "metadata": {
        "id": "c5LpBpCykLgE"
      },
      "execution_count": null,
      "outputs": []
    },
    {
      "cell_type": "code",
      "source": [
        "# generate synthetic data for anomaly detection\n",
        "# use 2 features per data point\n",
        "# setting random_state ensures reproducibility\n",
        "\n",
        "X_train, X_test, y_train, y_test = \\\n",
        "generate_data(n_train=n_train,\n",
        "n_test=n_test,\n",
        "n_features=2,\n",
        "contamination=contamination,\n",
        "random_state=42)"
      ],
      "metadata": {
        "id": "HnxvW77WkQBM"
      },
      "execution_count": null,
      "outputs": []
    },
    {
      "cell_type": "code",
      "source": [
        "# name of the classifier we are using, helpful for output labels and plots\n",
        "clf_name = 'KNN'\n",
        "# create a KNN detector instance\n",
        "clf = KNN()\n",
        "# train the model on the training data\n",
        "clf.fit(X_train)"
      ],
      "metadata": {
        "id": "dqxdvjxekVhi"
      },
      "execution_count": null,
      "outputs": []
    },
    {
      "cell_type": "code",
      "source": [
        "# get the prediction labels and outlier scores of the training data\n",
        "# these need to be accessed from the trained model instance, not as standalone variables\n",
        "y_train_pred = labels_ # binary labels (0: inliers, 1: outliers)\n",
        "y_train_scores = decision_scores_ # raw outlier scores\n",
        "# get the prediction on the test data\n",
        "y_train_pred = clf.predict(X_train) # outlier labels (0 or 1)\n",
        "y_test_scores = clf.decision_function(X_test) # outlier scores"
      ],
      "metadata": {
        "id": "idjHiApAkXOx"
      },
      "execution_count": null,
      "outputs": []
    },
    {
      "cell_type": "code",
      "source": [
        "# evaluate model performance on the training data using classification metrics\n",
        "print(\"\\nOn Training Data:\")\n",
        "evaluate_print(clf_name, y_train, y_train_scores)\n",
        "\n",
        "# evaluate performance on the test data\n",
        "print(\"\\nOn Test Data:\")\n",
        "evaluate_print(clf_name, y_test, y_test_scores)"
      ],
      "metadata": {
        "id": "chMNkCqbkahy"
      },
      "execution_count": null,
      "outputs": []
    },
    {
      "cell_type": "code",
      "source": [
        "# visualize the model's performance\n",
        "# show the decision boundary and which points were classified as anomalies\n",
        "visualize(clf_name, X_train, y_train, X_test, y_test, y_train_pred,\n",
        "# display the plot and saves it as an image file\n",
        "y_test_pred, show_figure=True, save_figure=True)"
      ],
      "metadata": {
        "id": "QFUDjwXXkbKJ"
      },
      "execution_count": null,
      "outputs": []
    }
  ]
}